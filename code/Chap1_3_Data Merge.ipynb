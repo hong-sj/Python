{
 "cells": [
  {
   "cell_type": "markdown",
   "id": "surprised-volunteer",
   "metadata": {},
   "source": [
    "### 라이브러리 호출"
   ]
  },
  {
   "cell_type": "code",
   "execution_count": 1,
   "id": "white-monitoring",
   "metadata": {},
   "outputs": [],
   "source": [
    "import pandas as pd"
   ]
  },
  {
   "cell_type": "markdown",
   "id": "warming-athens",
   "metadata": {},
   "source": [
    "### 데이터 호출"
   ]
  },
  {
   "cell_type": "code",
   "execution_count": 2,
   "id": "american-photographer",
   "metadata": {},
   "outputs": [],
   "source": [
    "# 상위 폴더로 이동 후 data 폴더로 이동\n",
    "path = '../data/'"
   ]
  },
  {
   "cell_type": "code",
   "execution_count": 4,
   "id": "going-egypt",
   "metadata": {},
   "outputs": [],
   "source": [
    "# Sales data\n",
    "sales = pd.read_csv(path + 'Sales data/Sales.csv')"
   ]
  },
  {
   "cell_type": "code",
   "execution_count": 5,
   "id": "other-identity",
   "metadata": {},
   "outputs": [
    {
     "data": {
      "text/html": [
       "<div>\n",
       "<style scoped>\n",
       "    .dataframe tbody tr th:only-of-type {\n",
       "        vertical-align: middle;\n",
       "    }\n",
       "\n",
       "    .dataframe tbody tr th {\n",
       "        vertical-align: top;\n",
       "    }\n",
       "\n",
       "    .dataframe thead th {\n",
       "        text-align: right;\n",
       "    }\n",
       "</style>\n",
       "<table border=\"1\" class=\"dataframe\">\n",
       "  <thead>\n",
       "    <tr style=\"text-align: right;\">\n",
       "      <th></th>\n",
       "      <th>OrderID</th>\n",
       "      <th>OrderDate</th>\n",
       "      <th>Gender</th>\n",
       "      <th>AgeGroup</th>\n",
       "      <th>Channel</th>\n",
       "      <th>ShipDate</th>\n",
       "      <th>ItemCode</th>\n",
       "      <th>MapCode</th>\n",
       "      <th>Quantity</th>\n",
       "      <th>Revenue</th>\n",
       "      <th>Cost</th>\n",
       "    </tr>\n",
       "  </thead>\n",
       "  <tbody>\n",
       "    <tr>\n",
       "      <th>0</th>\n",
       "      <td>100013196</td>\n",
       "      <td>2020-03-20</td>\n",
       "      <td>Female</td>\n",
       "      <td>30s</td>\n",
       "      <td>Online</td>\n",
       "      <td>2020-03-22</td>\n",
       "      <td>D10002</td>\n",
       "      <td>34</td>\n",
       "      <td>46</td>\n",
       "      <td>35576.6</td>\n",
       "      <td>29647.155</td>\n",
       "    </tr>\n",
       "    <tr>\n",
       "      <th>1</th>\n",
       "      <td>100061261</td>\n",
       "      <td>2018-06-20</td>\n",
       "      <td>Female</td>\n",
       "      <td>50s</td>\n",
       "      <td>Offline</td>\n",
       "      <td>NaN</td>\n",
       "      <td>D10001</td>\n",
       "      <td>5</td>\n",
       "      <td>69</td>\n",
       "      <td>10222.8</td>\n",
       "      <td>8518.990</td>\n",
       "    </tr>\n",
       "  </tbody>\n",
       "</table>\n",
       "</div>"
      ],
      "text/plain": [
       "     OrderID   OrderDate  Gender AgeGroup  Channel    ShipDate ItemCode  \\\n",
       "0  100013196  2020-03-20  Female      30s   Online  2020-03-22   D10002   \n",
       "1  100061261  2018-06-20  Female      50s  Offline         NaN   D10001   \n",
       "\n",
       "   MapCode  Quantity  Revenue       Cost  \n",
       "0       34        46  35576.6  29647.155  \n",
       "1        5        69  10222.8   8518.990  "
      ]
     },
     "execution_count": 5,
     "metadata": {},
     "output_type": "execute_result"
    }
   ],
   "source": [
    "sales.head(2)"
   ]
  },
  {
   "cell_type": "code",
   "execution_count": 6,
   "id": "current-trainer",
   "metadata": {},
   "outputs": [
    {
     "name": "stdout",
     "output_type": "stream",
     "text": [
      "<class 'pandas.core.frame.DataFrame'>\n",
      "RangeIndex: 27657 entries, 0 to 27656\n",
      "Data columns (total 11 columns):\n",
      " #   Column     Non-Null Count  Dtype  \n",
      "---  ------     --------------  -----  \n",
      " 0   OrderID    27657 non-null  int64  \n",
      " 1   OrderDate  27657 non-null  object \n",
      " 2   Gender     27657 non-null  object \n",
      " 3   AgeGroup   27657 non-null  object \n",
      " 4   Channel    27657 non-null  object \n",
      " 5   ShipDate   19163 non-null  object \n",
      " 6   ItemCode   27657 non-null  object \n",
      " 7   MapCode    27657 non-null  int64  \n",
      " 8   Quantity   27657 non-null  int64  \n",
      " 9   Revenue    27657 non-null  float64\n",
      " 10  Cost       27657 non-null  float64\n",
      "dtypes: float64(2), int64(3), object(6)\n",
      "memory usage: 2.3+ MB\n"
     ]
    }
   ],
   "source": [
    "sales.info()"
   ]
  },
  {
   "cell_type": "code",
   "execution_count": 7,
   "id": "described-wales",
   "metadata": {},
   "outputs": [],
   "source": [
    "# Item data\n",
    "item = pd.read_csv(path + 'Sales data/Item.csv')"
   ]
  },
  {
   "cell_type": "code",
   "execution_count": 8,
   "id": "regulated-offer",
   "metadata": {},
   "outputs": [
    {
     "data": {
      "text/html": [
       "<div>\n",
       "<style scoped>\n",
       "    .dataframe tbody tr th:only-of-type {\n",
       "        vertical-align: middle;\n",
       "    }\n",
       "\n",
       "    .dataframe tbody tr th {\n",
       "        vertical-align: top;\n",
       "    }\n",
       "\n",
       "    .dataframe thead th {\n",
       "        text-align: right;\n",
       "    }\n",
       "</style>\n",
       "<table border=\"1\" class=\"dataframe\">\n",
       "  <thead>\n",
       "    <tr style=\"text-align: right;\">\n",
       "      <th></th>\n",
       "      <th>ItemNo</th>\n",
       "      <th>Category</th>\n",
       "      <th>Item Type</th>\n",
       "    </tr>\n",
       "  </thead>\n",
       "  <tbody>\n",
       "    <tr>\n",
       "      <th>0</th>\n",
       "      <td>A10001</td>\n",
       "      <td>Beauty &amp; Health</td>\n",
       "      <td>Cosmetics</td>\n",
       "    </tr>\n",
       "    <tr>\n",
       "      <th>1</th>\n",
       "      <td>A10002</td>\n",
       "      <td>Beauty &amp; Health</td>\n",
       "      <td>Personal Care</td>\n",
       "    </tr>\n",
       "  </tbody>\n",
       "</table>\n",
       "</div>"
      ],
      "text/plain": [
       "   ItemNo         Category      Item Type\n",
       "0  A10001  Beauty & Health      Cosmetics\n",
       "1  A10002  Beauty & Health  Personal Care"
      ]
     },
     "execution_count": 8,
     "metadata": {},
     "output_type": "execute_result"
    }
   ],
   "source": [
    "item.head(2)"
   ]
  },
  {
   "cell_type": "code",
   "execution_count": 9,
   "id": "worse-handy",
   "metadata": {},
   "outputs": [],
   "source": [
    "# Country data\n",
    "country = pd.read_csv(path + 'Sales data/Country.csv')"
   ]
  },
  {
   "cell_type": "code",
   "execution_count": 10,
   "id": "necessary-fruit",
   "metadata": {},
   "outputs": [
    {
     "data": {
      "text/html": [
       "<div>\n",
       "<style scoped>\n",
       "    .dataframe tbody tr th:only-of-type {\n",
       "        vertical-align: middle;\n",
       "    }\n",
       "\n",
       "    .dataframe tbody tr th {\n",
       "        vertical-align: top;\n",
       "    }\n",
       "\n",
       "    .dataframe thead th {\n",
       "        text-align: right;\n",
       "    }\n",
       "</style>\n",
       "<table border=\"1\" class=\"dataframe\">\n",
       "  <thead>\n",
       "    <tr style=\"text-align: right;\">\n",
       "      <th></th>\n",
       "      <th>Region</th>\n",
       "      <th>Country Code</th>\n",
       "      <th>Country</th>\n",
       "      <th>Code2</th>\n",
       "      <th>Code3</th>\n",
       "      <th>Latitude</th>\n",
       "      <th>Longitude</th>\n",
       "    </tr>\n",
       "  </thead>\n",
       "  <tbody>\n",
       "    <tr>\n",
       "      <th>0</th>\n",
       "      <td>Oceania</td>\n",
       "      <td>1</td>\n",
       "      <td>Australia</td>\n",
       "      <td>AU</td>\n",
       "      <td>AUS</td>\n",
       "      <td>-35.306944</td>\n",
       "      <td>149.124297</td>\n",
       "    </tr>\n",
       "    <tr>\n",
       "      <th>1</th>\n",
       "      <td>Europe</td>\n",
       "      <td>2</td>\n",
       "      <td>Austria</td>\n",
       "      <td>AT</td>\n",
       "      <td>AUT</td>\n",
       "      <td>48.209206</td>\n",
       "      <td>16.372778</td>\n",
       "    </tr>\n",
       "  </tbody>\n",
       "</table>\n",
       "</div>"
      ],
      "text/plain": [
       "    Region  Country Code    Country Code2 Code3   Latitude   Longitude\n",
       "0  Oceania             1  Australia    AU   AUS -35.306944  149.124297\n",
       "1   Europe             2    Austria    AT   AUT  48.209206   16.372778"
      ]
     },
     "execution_count": 10,
     "metadata": {},
     "output_type": "execute_result"
    }
   ],
   "source": [
    "country.head(2)"
   ]
  },
  {
   "cell_type": "markdown",
   "id": "previous-islam",
   "metadata": {},
   "source": [
    "### Merge 1. Sales & Item"
   ]
  },
  {
   "cell_type": "code",
   "execution_count": 11,
   "id": "accepted-mouth",
   "metadata": {},
   "outputs": [],
   "source": [
    "# sales data 복사\n",
    "df = sales.copy()"
   ]
  },
  {
   "cell_type": "code",
   "execution_count": 12,
   "id": "guided-membrane",
   "metadata": {},
   "outputs": [
    {
     "data": {
      "text/plain": [
       "(27657, 11)"
      ]
     },
     "execution_count": 12,
     "metadata": {},
     "output_type": "execute_result"
    }
   ],
   "source": [
    "# data rows & columns 확인\n",
    "df.shape"
   ]
  },
  {
   "cell_type": "code",
   "execution_count": null,
   "id": "smart-migration",
   "metadata": {},
   "outputs": [],
   "source": [
    "# pd.merge(left, right,               # merge할 DataFrame 객체 이름\n",
    "#          how = 'inner',             # inner (default), left, rigth, outer\n",
    "#          on = None,                # 기준이 되는 Key 변수\n",
    "#          left_on = None,           # 왼쪽 DataFrame의 변수를 Key로 사용\n",
    "#          right_on = None,          # 오른쪽 DataFrame의 변수를 Key로 사용\n",
    "#          left_index = False,       # True이면, 왼쪽 DataFrame의 index를 merge Key로 사용\n",
    "#          right_index = False,      # True이면, 오른쪽 DataFrame의 index를 merge Key로 사용\n",
    "#          sort = True,              # merge된 후의 DataFrame을 join Key 기준으로 정렬\n",
    "#          suffixes = ('_x', '_y'),   # 중복되는 변수 이름에 대해 접두사 부여 (defaults to '_x', '_y')\n",
    "#          copy = True,              # merge할 DataFrame을 복사\n",
    "#          indicator = False)        # 결합 후 DataFrame에 출처를 알 수 있는 부가 정보 변수 추가"
   ]
  },
  {
   "cell_type": "code",
   "execution_count": null,
   "id": "prescription-charge",
   "metadata": {},
   "outputs": [],
   "source": [
    "# Key: Sales(ItemCode), Item(ItemNo)\n",
    "# df = df.merge(item, how='left', left_on='ItemCode', right_on='ItemNo')\n",
    "df = df.merge(item.rename(columns={'ItemNo':'ItemCode'}), on='ItemCode', how='left')"
   ]
  },
  {
   "cell_type": "code",
   "execution_count": null,
   "id": "liquid-kansas",
   "metadata": {},
   "outputs": [],
   "source": [
    "df.shape"
   ]
  },
  {
   "cell_type": "markdown",
   "id": "australian-french",
   "metadata": {},
   "source": [
    "### Merge 2. (Sales & Item) & Country"
   ]
  },
  {
   "cell_type": "code",
   "execution_count": null,
   "id": "elect-geography",
   "metadata": {},
   "outputs": [],
   "source": [
    "# Key: df(MapCode), Country(Country Code)\n",
    "# df = df.merge(country, how='left', left_on='MapCode', right_on='Country Code')\n",
    "df = df.merge(country.rename(columns={'Country Code':'MapCode'}), on='MapCode', how='left')"
   ]
  },
  {
   "cell_type": "code",
   "execution_count": null,
   "id": "faced-sweet",
   "metadata": {},
   "outputs": [],
   "source": [
    "df.shape"
   ]
  },
  {
   "cell_type": "code",
   "execution_count": null,
   "id": "valued-happiness",
   "metadata": {},
   "outputs": [],
   "source": [
    "df.head(3)"
   ]
  },
  {
   "cell_type": "markdown",
   "id": "institutional-parallel",
   "metadata": {},
   "source": [
    "### csv 파일로 내보내기"
   ]
  },
  {
   "cell_type": "code",
   "execution_count": null,
   "id": "complete-perception",
   "metadata": {},
   "outputs": [],
   "source": [
    "df.to_csv('Sales data/Data.csv', index=None)"
   ]
  },
  {
   "cell_type": "code",
   "execution_count": null,
   "id": "involved-projector",
   "metadata": {},
   "outputs": [],
   "source": []
  },
  {
   "cell_type": "code",
   "execution_count": null,
   "id": "sufficient-father",
   "metadata": {},
   "outputs": [],
   "source": []
  },
  {
   "cell_type": "code",
   "execution_count": 16,
   "id": "crucial-devil",
   "metadata": {},
   "outputs": [
    {
     "data": {
      "text/html": [
       "<div>\n",
       "<style scoped>\n",
       "    .dataframe tbody tr th:only-of-type {\n",
       "        vertical-align: middle;\n",
       "    }\n",
       "\n",
       "    .dataframe tbody tr th {\n",
       "        vertical-align: top;\n",
       "    }\n",
       "\n",
       "    .dataframe thead th {\n",
       "        text-align: right;\n",
       "    }\n",
       "</style>\n",
       "<table border=\"1\" class=\"dataframe\">\n",
       "  <thead>\n",
       "    <tr style=\"text-align: right;\">\n",
       "      <th></th>\n",
       "      <th>OrderID</th>\n",
       "      <th>OrderDate</th>\n",
       "      <th>Gender</th>\n",
       "      <th>AgeGroup</th>\n",
       "      <th>Channel</th>\n",
       "      <th>ShipDate</th>\n",
       "      <th>ItemCode</th>\n",
       "      <th>MapCode</th>\n",
       "      <th>Quantity</th>\n",
       "      <th>Revenue</th>\n",
       "      <th>Cost</th>\n",
       "    </tr>\n",
       "  </thead>\n",
       "  <tbody>\n",
       "    <tr>\n",
       "      <th>0</th>\n",
       "      <td>100013196</td>\n",
       "      <td>2020-03-20</td>\n",
       "      <td>Female</td>\n",
       "      <td>30s</td>\n",
       "      <td>Online</td>\n",
       "      <td>2020-03-22</td>\n",
       "      <td>D10002</td>\n",
       "      <td>34</td>\n",
       "      <td>46</td>\n",
       "      <td>35576.6</td>\n",
       "      <td>29647.155</td>\n",
       "    </tr>\n",
       "    <tr>\n",
       "      <th>1</th>\n",
       "      <td>100061261</td>\n",
       "      <td>2018-06-20</td>\n",
       "      <td>Female</td>\n",
       "      <td>50s</td>\n",
       "      <td>Offline</td>\n",
       "      <td>NaN</td>\n",
       "      <td>D10001</td>\n",
       "      <td>5</td>\n",
       "      <td>69</td>\n",
       "      <td>10222.8</td>\n",
       "      <td>8518.990</td>\n",
       "    </tr>\n",
       "    <tr>\n",
       "      <th>2</th>\n",
       "      <td>100071990</td>\n",
       "      <td>2020-06-20</td>\n",
       "      <td>Female</td>\n",
       "      <td>20s</td>\n",
       "      <td>Online</td>\n",
       "      <td>2020-06-22</td>\n",
       "      <td>D10001</td>\n",
       "      <td>3</td>\n",
       "      <td>53</td>\n",
       "      <td>31731.5</td>\n",
       "      <td>26442.930</td>\n",
       "    </tr>\n",
       "  </tbody>\n",
       "</table>\n",
       "</div>"
      ],
      "text/plain": [
       "     OrderID   OrderDate  Gender AgeGroup  Channel    ShipDate ItemCode  \\\n",
       "0  100013196  2020-03-20  Female      30s   Online  2020-03-22   D10002   \n",
       "1  100061261  2018-06-20  Female      50s  Offline         NaN   D10001   \n",
       "2  100071990  2020-06-20  Female      20s   Online  2020-06-22   D10001   \n",
       "\n",
       "   MapCode  Quantity  Revenue       Cost  \n",
       "0       34        46  35576.6  29647.155  \n",
       "1        5        69  10222.8   8518.990  \n",
       "2        3        53  31731.5  26442.930  "
      ]
     },
     "execution_count": 16,
     "metadata": {},
     "output_type": "execute_result"
    }
   ],
   "source": [
    "sales.head(3)"
   ]
  },
  {
   "cell_type": "code",
   "execution_count": 17,
   "id": "fatal-blocking",
   "metadata": {},
   "outputs": [
    {
     "data": {
      "text/html": [
       "<div>\n",
       "<style scoped>\n",
       "    .dataframe tbody tr th:only-of-type {\n",
       "        vertical-align: middle;\n",
       "    }\n",
       "\n",
       "    .dataframe tbody tr th {\n",
       "        vertical-align: top;\n",
       "    }\n",
       "\n",
       "    .dataframe thead th {\n",
       "        text-align: right;\n",
       "    }\n",
       "</style>\n",
       "<table border=\"1\" class=\"dataframe\">\n",
       "  <thead>\n",
       "    <tr style=\"text-align: right;\">\n",
       "      <th></th>\n",
       "      <th>ItemNo</th>\n",
       "      <th>Category</th>\n",
       "      <th>Item Type</th>\n",
       "    </tr>\n",
       "  </thead>\n",
       "  <tbody>\n",
       "    <tr>\n",
       "      <th>0</th>\n",
       "      <td>A10001</td>\n",
       "      <td>Beauty &amp; Health</td>\n",
       "      <td>Cosmetics</td>\n",
       "    </tr>\n",
       "    <tr>\n",
       "      <th>1</th>\n",
       "      <td>A10002</td>\n",
       "      <td>Beauty &amp; Health</td>\n",
       "      <td>Personal Care</td>\n",
       "    </tr>\n",
       "    <tr>\n",
       "      <th>2</th>\n",
       "      <td>B10001</td>\n",
       "      <td>Clothes</td>\n",
       "      <td>Clothes</td>\n",
       "    </tr>\n",
       "  </tbody>\n",
       "</table>\n",
       "</div>"
      ],
      "text/plain": [
       "   ItemNo         Category      Item Type\n",
       "0  A10001  Beauty & Health      Cosmetics\n",
       "1  A10002  Beauty & Health  Personal Care\n",
       "2  B10001          Clothes        Clothes"
      ]
     },
     "execution_count": 17,
     "metadata": {},
     "output_type": "execute_result"
    }
   ],
   "source": [
    "item.head(3)"
   ]
  },
  {
   "cell_type": "code",
   "execution_count": 18,
   "id": "assumed-testament",
   "metadata": {},
   "outputs": [
    {
     "data": {
      "text/html": [
       "<div>\n",
       "<style scoped>\n",
       "    .dataframe tbody tr th:only-of-type {\n",
       "        vertical-align: middle;\n",
       "    }\n",
       "\n",
       "    .dataframe tbody tr th {\n",
       "        vertical-align: top;\n",
       "    }\n",
       "\n",
       "    .dataframe thead th {\n",
       "        text-align: right;\n",
       "    }\n",
       "</style>\n",
       "<table border=\"1\" class=\"dataframe\">\n",
       "  <thead>\n",
       "    <tr style=\"text-align: right;\">\n",
       "      <th></th>\n",
       "      <th>Region</th>\n",
       "      <th>Country Code</th>\n",
       "      <th>Country</th>\n",
       "      <th>Code2</th>\n",
       "      <th>Code3</th>\n",
       "      <th>Latitude</th>\n",
       "      <th>Longitude</th>\n",
       "    </tr>\n",
       "  </thead>\n",
       "  <tbody>\n",
       "    <tr>\n",
       "      <th>0</th>\n",
       "      <td>Oceania</td>\n",
       "      <td>1</td>\n",
       "      <td>Australia</td>\n",
       "      <td>AU</td>\n",
       "      <td>AUS</td>\n",
       "      <td>-35.306944</td>\n",
       "      <td>149.124297</td>\n",
       "    </tr>\n",
       "    <tr>\n",
       "      <th>1</th>\n",
       "      <td>Europe</td>\n",
       "      <td>2</td>\n",
       "      <td>Austria</td>\n",
       "      <td>AT</td>\n",
       "      <td>AUT</td>\n",
       "      <td>48.209206</td>\n",
       "      <td>16.372778</td>\n",
       "    </tr>\n",
       "    <tr>\n",
       "      <th>2</th>\n",
       "      <td>Europe</td>\n",
       "      <td>3</td>\n",
       "      <td>Belgium</td>\n",
       "      <td>BE</td>\n",
       "      <td>BEL</td>\n",
       "      <td>50.503887</td>\n",
       "      <td>4.469936</td>\n",
       "    </tr>\n",
       "  </tbody>\n",
       "</table>\n",
       "</div>"
      ],
      "text/plain": [
       "    Region  Country Code    Country Code2 Code3   Latitude   Longitude\n",
       "0  Oceania             1  Australia    AU   AUS -35.306944  149.124297\n",
       "1   Europe             2    Austria    AT   AUT  48.209206   16.372778\n",
       "2   Europe             3    Belgium    BE   BEL  50.503887    4.469936"
      ]
     },
     "execution_count": 18,
     "metadata": {},
     "output_type": "execute_result"
    }
   ],
   "source": [
    "country.head(3)"
   ]
  },
  {
   "cell_type": "code",
   "execution_count": null,
   "id": "contained-publication",
   "metadata": {},
   "outputs": [],
   "source": []
  }
 ],
 "metadata": {
  "kernelspec": {
   "display_name": "Python 3",
   "language": "python",
   "name": "python3"
  },
  "language_info": {
   "codemirror_mode": {
    "name": "ipython",
    "version": 3
   },
   "file_extension": ".py",
   "mimetype": "text/x-python",
   "name": "python",
   "nbconvert_exporter": "python",
   "pygments_lexer": "ipython3",
   "version": "3.7.9"
  }
 },
 "nbformat": 4,
 "nbformat_minor": 5
}
