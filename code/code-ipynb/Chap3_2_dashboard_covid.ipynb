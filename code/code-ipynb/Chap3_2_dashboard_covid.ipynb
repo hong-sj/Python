{
 "cells": [
  {
   "cell_type": "markdown",
   "metadata": {},
   "source": [
    "### 라이브러리 호출"
   ]
  },
  {
   "cell_type": "code",
   "execution_count": null,
   "metadata": {},
   "outputs": [],
   "source": [
    "import pandas as pd\n",
    "import numpy as np\n",
    "import plotly.graph_objects as go\n",
    "from plotly.subplots import make_subplots\n",
    "\n",
    "import dash\n",
    "import dash_core_components as dcc\n",
    "import dash_html_components as html\n",
    "from dash.dependencies import Input, Output, State\n",
    "\n",
    "import io       # I/O(input/output) 처리\n",
    "import base64   # decoding 처리"
   ]
  },
  {
   "cell_type": "markdown",
   "metadata": {},
   "source": [
    "### 데이터 호출"
   ]
  },
  {
   "cell_type": "code",
   "execution_count": null,
   "metadata": {},
   "outputs": [],
   "source": [
    "# Local 기준 - 상위 폴더로 이동 후 data 폴더로 이동\n",
    "path = '../data/'"
   ]
  },
  {
   "cell_type": "code",
   "execution_count": null,
   "metadata": {},
   "outputs": [],
   "source": [
    "# COVID-19 data\n",
    "df_cov = pd.read_csv(path + 'Public data/disease_COVID19.csv')\n",
    "\n",
    "# Disease data (ARI, Inf, SP)\n",
    "df_disease = pd.concat([pd.read_csv(path + 'Public data/disease_ARI.csv'),\n",
    "                        pd.read_csv(path + 'Public data/disease_Influenza.csv'),\n",
    "                        pd.read_csv(path + 'Public data/disease_SP.csv')])"
   ]
  },
  {
   "cell_type": "markdown",
   "metadata": {},
   "source": [
    "### 호흡기 질환 기준"
   ]
  },
  {
   "cell_type": "code",
   "execution_count": null,
   "metadata": {},
   "outputs": [],
   "source": [
    "# RadioItems value's\n",
    "button = ['Acute Respiratory Infection', 'Influenza', 'Streptococcus Pneumoniae']"
   ]
  },
  {
   "cell_type": "markdown",
   "metadata": {},
   "source": [
    "### App & Layout"
   ]
  },
  {
   "cell_type": "code",
   "execution_count": null,
   "metadata": {
    "scrolled": true
   },
   "outputs": [],
   "source": [
    "# App structure\n",
    "app = dash.Dash(__name__)\n",
    "app.title = ('Dashboard | COVID-19 & Resiratory Disease Data')\n",
    "server = app.server\n",
    "\n",
    "# App layout\n",
    "app.layout = html.Div([\n",
    "    \n",
    "    # Main Title\n",
    "    html.H2('Impact of COVID-19 Pandemic on Occurrence Trends of Resiratory Diseases in Korea', style={'textAlign': 'center'}),\n",
    "    \n",
    "    dcc.Tabs([\n",
    "        \n",
    "        # Tab 1\n",
    "        dcc.Tab(label='Dashboard',\n",
    "                style={'padding':'3px', 'fontWeight':'bold', 'borderBottom':'1px solid #d6d6d6'}, \n",
    "                selected_style={'padding':'3px', 'backgroundColor': '#119DFF', 'color': 'white',\n",
    "                                'borderBottom':'1px solid #d6d6d6', 'borderTop':'1px solid #d6d6d6'},\n",
    "                \n",
    "                children = [\n",
    "                    html.Div([\n",
    "                        html.P(children='Disease Type: '),\n",
    "                        dcc.RadioItems(id = 'radio',\n",
    "                                       options=[{'label': i, 'value': i} for i in button],\n",
    "                                       value = 'Acute Respiratory Infection',\n",
    "                                       labelStyle={'display': 'block'})\n",
    "                            ]),\n",
    "                    \n",
    "                    dcc.Graph(id = 'graph', style={'width': '95%', 'margin-left': 'auto', 'margin-right': 0}),\n",
    "                        \n",
    "                    ]),\n",
    "        \n",
    "        # Tab 2\n",
    "        dcc.Tab(label='Upload',\n",
    "                style={'padding':'3px', 'fontWeight':'bold', 'borderBottom':'1px solid #d6d6d6'}, \n",
    "                selected_style={'padding':'3px', 'backgroundColor': '#119DFF', 'color': 'white',\n",
    "                                'borderBottom':'1px solid #d6d6d6', 'borderTop':'1px solid #d6d6d6'},\n",
    "                \n",
    "                children = [\n",
    "                    html.Div([\n",
    "                        \n",
    "                        html.Div([dcc.Upload(id='up1',\n",
    "                                             children=html.Div('Upload-COVID19'),\n",
    "                                             style={'width': '15%', 'height': '30px',\n",
    "                                                    'lineHeight': '30px', 'borderWidth': '1px',\n",
    "                                                    'borderStyle': 'dashed', 'borderRadius': '2px',\n",
    "                                                    'textAlign': 'center', 'float':'left', 'display':'inline-block'})]),\n",
    "                        \n",
    "                        html.Div([dcc.Upload(id='up2',\n",
    "                                             children=html.Div('Upload-Disease'),\n",
    "                                             style={'width': '15%', 'height': '30px',\n",
    "                                                    'lineHeight': '30px', 'borderWidth': '1px',\n",
    "                                                    'borderStyle': 'dashed', 'borderRadius': '2px',\n",
    "                                                    'textAlign': 'center', 'float':'left', 'display':'inline-block'})])        \n",
    "                        ], style={'width':'75%', 'overflow': 'hidden'}),  # hidden : 영역에 맞춰 나머지는 숨김처리\n",
    "                    \n",
    "                    dcc.Graph(id = 'auto', style={'width': '95%', 'margin-left':'auto', 'margin-right': 0})\n",
    "                    \n",
    "                    ])\n",
    "    ])\n",
    "])"
   ]
  },
  {
   "cell_type": "markdown",
   "metadata": {},
   "source": [
    "### Tab 1 - Dashboard"
   ]
  },
  {
   "cell_type": "code",
   "execution_count": null,
   "metadata": {},
   "outputs": [],
   "source": [
    "@app.callback(Output('graph', 'figure'), [Input('radio', 'value')])\n",
    "def update_radio(val):\n",
    "    \n",
    "    # Create figure with secondary y-axis\n",
    "    fig = make_subplots(specs=[[{\"secondary_y\": True}]])\n",
    "    \n",
    "    ############################################################################### Bar Chart\n",
    "    dis = df_cov['distance'].unique().tolist()\n",
    "    col = [\"#4088DA\", \"#B9DEDF\", \"#FFB911\", \"#FC7001\", \"#E60000\"]\n",
    "\n",
    "    # Loop - Distance\n",
    "    for i in range(len(dis)):\n",
    "        cov = df_cov[df_cov['distance'] == dis[i]]\n",
    "        \n",
    "        fig.add_trace(go.Bar(x=cov['week'],\n",
    "                             y=cov['value'],\n",
    "                             text=cov['distance'],\n",
    "                             name=dis[i],\n",
    "                             hovertemplate='<b>2020</b><br> Week: %{x}<br> Distance: %{text}<br> Confirmed: %{y:,}',\n",
    "                             #hoverlabel=dict(bgcolor='black', bordercolor='white'),\n",
    "                             hoverlabel_font_color='rgb(255,255,255)',\n",
    "                             marker_color=col[i]),\n",
    "                      secondary_y=False)\n",
    "\n",
    "    fig.update_layout(go.Layout(xaxis = dict(title = 'Time (week)',\n",
    "                                             dtick = 1, tickangle = 0),  # dtick : x 간격, tickangle : x label 각도 조절\n",
    "                                yaxis = dict(title ='Cumulative Number of Confirmed Cases',\n",
    "                                             tickformat = ',', showgrid = False),\n",
    "                                legend = dict(orientation='h', yanchor='top', y=1.1, traceorder='normal'),\n",
    "                                height = 650))\n",
    "    \n",
    "    ############################################################################### Line Chart\n",
    "    yr = df_disease['year'].unique().tolist()\n",
    "    line = ['dash', 'dot' ,'solid']\n",
    "    \n",
    "    for i in range(len(yr)):\n",
    "        df = df_disease[(df_disease['disease'] == val) & (df_disease['year'] == yr[i])]\n",
    "\n",
    "        fig.add_trace(go.Scatter(x=df['week'],\n",
    "                                 y=df['value'],\n",
    "                                 text=df['year'],\n",
    "                                 name=yr[i],\n",
    "                                 hovertemplate='<b>%{text}</b><br> Week: %{x} <br> Patient: %{y:,}',\n",
    "                                 mode=\"lines\",\n",
    "                                 line={'dash': line[i], 'color':'black', 'width':1}),\n",
    "                      secondary_y=True)\n",
    "    \n",
    "    # 보조축 title\n",
    "    fig.update_yaxes(title_text='Number of Case('+ val +')', tickformat = ',', secondary_y=True)\n",
    "    \n",
    "    return fig"
   ]
  },
  {
   "cell_type": "markdown",
   "metadata": {},
   "source": [
    "### Tab 2 - Upload"
   ]
  },
  {
   "cell_type": "code",
   "execution_count": null,
   "metadata": {},
   "outputs": [],
   "source": [
    "def process_content(contents):\n",
    "    type,data  = contents.split(',')\n",
    "    decoded = base64.b64decode(data)\n",
    "    return decoded\n",
    "\n",
    "################################################################################ Bar Chart\n",
    "@app.callback(Output('auto', 'figure'), \n",
    "              [Input('up1','contents'), Input('up2','contents')])\n",
    "def update_files(content1, content2):\n",
    "    \n",
    "    # Create figure with secondary y-axis\n",
    "    fig = make_subplots(specs=[[{\"secondary_y\": True}]])\n",
    "    \n",
    "    ### Upload Data 처리 - 코로나19 데이터 ###############\n",
    "    data1 = process_content(content1)\n",
    "    up_cov = pd.read_csv(io.StringIO(data1.decode('utf-8')))\n",
    "    ######################################################\n",
    "    \n",
    "    # Settings\n",
    "    dis = up_cov['distance'].unique().tolist()\n",
    "    col = [\"#4088DA\", \"#B9DEDF\", \"#FFB911\", \"#FC7001\", \"#E60000\"]\n",
    "    \n",
    "    # Loop - Distance\n",
    "    for i in range(len(dis)):\n",
    "        cov = up_cov[up_cov['distance'] == dis[i]]\n",
    "        \n",
    "        fig.add_trace(go.Bar(x=cov['week'],\n",
    "                             y=cov['value'],\n",
    "                             text=cov['distance'],\n",
    "                             name=dis[i],\n",
    "                             hovertemplate='<b>2020</b><br> Week: %{x}<br> Distance: %{text}<br> Confirmed: %{y:,}',\n",
    "                             #hoverlabel=dict(bgcolor='black', bordercolor='white'),\n",
    "                             hoverlabel_font_color='rgb(255,255,255)',\n",
    "                             marker_color=col[i]),\n",
    "                      secondary_y=False)\n",
    "    \n",
    "    fig.update_layout(go.Layout(xaxis = dict(title = 'Time (week)',\n",
    "                                             dtick = 1, tickangle = 0),  # dtick : x 간격, tickangle : x label 각도 조절\n",
    "                                yaxis = dict(title ='Cumulative Number of Confirmed Cases',\n",
    "                                             tickformat = ',', showgrid = False),\n",
    "                                legend = dict(orientation='h', yanchor='top', y=1.1, traceorder='normal'),\n",
    "                                height = 650))\n",
    "        \n",
    "################################################################################ Line Chart\n",
    "    if content2 != None:\n",
    "        ### Upload Data 처리 - 호흡기 질환 데이터 ###############\n",
    "        data2 = process_content(content2)    \n",
    "        up_dis = pd.read_csv(io.StringIO(data2.decode('utf-8')))\n",
    "        #########################################################\n",
    "\n",
    "        # Settings\n",
    "        yr = up_dis['year'].unique().tolist()\n",
    "        dis_nm = up_dis['disease'].unique().tolist()[0]\n",
    "        line = ['dash', 'dot' ,'solid']\n",
    "\n",
    "        for i in range(len(yr)):\n",
    "            df = up_dis[up_dis['year'] == yr[i]]\n",
    "\n",
    "            fig.add_trace(go.Scatter(x=df['week'],\n",
    "                                     y=df['value'],\n",
    "                                     text=df['year'],\n",
    "                                     name=yr[i],\n",
    "                                     hovertemplate='<b>%{text}</b><br> Week: %{x} <br> Patient: %{y:,}',\n",
    "                                     mode=\"lines\",\n",
    "                                     line={'dash': line[i], 'color':'black', 'width':1}),\n",
    "                          secondary_y=True)\n",
    "\n",
    "        # 보조축 title\n",
    "        fig.update_yaxes(title_text='Number of Case('+ dis_nm +')', tickformat = ',', secondary_y=True)\n",
    "    \n",
    "    return fig"
   ]
  },
  {
   "cell_type": "markdown",
   "metadata": {},
   "source": [
    "### App Launch"
   ]
  },
  {
   "cell_type": "code",
   "execution_count": null,
   "metadata": {},
   "outputs": [],
   "source": [
    "# Run App\n",
    "if __name__=='__main__':\n",
    "    app.run_server(debug=False)"
   ]
  },
  {
   "cell_type": "code",
   "execution_count": null,
   "metadata": {},
   "outputs": [],
   "source": []
  }
 ],
 "metadata": {
  "kernelspec": {
   "display_name": "Python 3",
   "language": "python",
   "name": "python3"
  },
  "language_info": {
   "codemirror_mode": {
    "name": "ipython",
    "version": 3
   },
   "file_extension": ".py",
   "mimetype": "text/x-python",
   "name": "python",
   "nbconvert_exporter": "python",
   "pygments_lexer": "ipython3",
   "version": "3.7.9"
  }
 },
 "nbformat": 4,
 "nbformat_minor": 4
}
